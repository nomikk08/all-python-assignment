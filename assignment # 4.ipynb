{
 "cells": [
  {
   "cell_type": "code",
   "execution_count": 3,
   "metadata": {},
   "outputs": [
    {
     "name": "stdout",
     "output_type": "stream",
     "text": [
      "Noman\n",
      "Aijaz\n",
      "23\n",
      "Tando Allahyar\n"
     ]
    }
   ],
   "source": [
    "# question No.1\n",
    "student = {\"first_name\": \"Noman\" , \"last_name\": \"Aijaz\" , \"age\": 23 , \"city\": \"Tando Allahyar\"}\n",
    "for value in student.values():\n",
    "    print(value)"
   ]
  },
  {
   "cell_type": "code",
   "execution_count": 8,
   "metadata": {
    "scrolled": true
   },
   "outputs": [
    {
     "name": "stdout",
     "output_type": "stream",
     "text": [
      "karachi\n",
      "banglore\n",
      "newyork\n",
      "Enter any city namenewyork\n",
      "{'country': 'America', 'population': '4.5 Million', 'fact': 'strongest economy of the world'}\n"
     ]
    }
   ],
   "source": [
    "# Question No.2\n",
    "cities = {\n",
    "    \"karachi\" :\n",
    "    {\"country\" : \"Pakistan\" , \"population\" : \"25 Million\" , \"fact\" : \"most revenue generater for pakistan\"} , \n",
    "    \"banglore\" :\n",
    "    {\"country\" : \"India\" , \"population\" : \"2.5 Million\" , \"fact\" : \"IT hub of the world\" } , \n",
    "    \"newyork\" :\n",
    "    {\"country\" : \"America\" , \"population\" : \"4.5 Million\" , \"fact\" : \"strongest economy of the world\"}\n",
    "}\n",
    "for key in cities.keys():\n",
    "    print(key)\n",
    "city = input(\"Enter any city name \")\n",
    "if city == \"karachi\":\n",
    "    print(cities[\"karachi\"])\n",
    "if city == \"banglore\" :\n",
    "    print(cities[\"banglore\"])\n",
    "if city == \"newyork\" :\n",
    "    print(cities[\"newyork\"])\n",
    "else:\n",
    "    print(\"wrong option\")"
   ]
  },
  {
   "cell_type": "code",
   "execution_count": 4,
   "metadata": {
    "scrolled": true
   },
   "outputs": [
    {
     "name": "stdout",
     "output_type": "stream",
     "text": [
      "3\n",
      "4 to 12\n",
      "above 12\n",
      "Enter your age 3\n",
      "free\n"
     ]
    }
   ],
   "source": [
    "age = {\"3\" : \"free\" , \"4 to 12\" : \"$10\" , \"above 12\" : \"$15\"}\n",
    "for per in age.keys():\n",
    "    print(per)\n",
    "ages = input(\"Enter your age \")\n",
    "if ages == \"3\" :\n",
    "    print(age[\"3\"])\n",
    "elif ages == \"4 to 12\" :\n",
    "    print(age[\"4 to 12\"])\n",
    "elif ages == \"12\" :\n",
    "    print(age[\"above 12\"])\n",
    "else:\n",
    "    print(\"wrong option\")    "
   ]
  },
  {
   "cell_type": "code",
   "execution_count": 5,
   "metadata": {},
   "outputs": [
    {
     "name": "stdout",
     "output_type": "stream",
     "text": [
      "My favourite book is Al-chemist\n"
     ]
    }
   ],
   "source": [
    "def fav_books(tittle):\n",
    "    result = \"My favourite book is \" + tittle\n",
    "    print(result)\n",
    "    \n",
    "fav_books(tittle=\"Al-chemist\")"
   ]
  },
  {
   "cell_type": "code",
   "execution_count": 20,
   "metadata": {},
   "outputs": [
    {
     "name": "stdout",
     "output_type": "stream",
     "text": [
      "guess the number6\n",
      "wrong option\n",
      "guess another number7\n",
      "wrong number\n",
      "guess another number8\n",
      "wrong number you loose \n",
      " The correct number is 18\n"
     ]
    }
   ],
   "source": [
    "import random\n",
    "ran_num=random.randrange(1,30)\n",
    "num=input(\"guess the number\")\n",
    "if num == ran_num:\n",
    "    print(\"correct!! \")\n",
    "elif num != ran_num:\n",
    "    print(\"wrong option\")\n",
    "    num2 = input(\"guess another number \")\n",
    "    if num2 ==  ran_num:\n",
    "        print(\"correct !!\")\n",
    "    elif num2 != ran_num:\n",
    "        print(\"wrong number \")\n",
    "        num3=input(\"guess another number \")\n",
    "        if num3 == ran_num:\n",
    "            print(\"correct!!\")\n",
    "        elif num3 != ran_num:\n",
    "            print (\"wrong number you loose \\n The correct number is \" + str(ran_num))"
   ]
  },
  {
   "cell_type": "code",
   "execution_count": null,
   "metadata": {},
   "outputs": [],
   "source": []
  }
 ],
 "metadata": {
  "kernelspec": {
   "display_name": "Python 3",
   "language": "python",
   "name": "python3"
  },
  "language_info": {
   "codemirror_mode": {
    "name": "ipython",
    "version": 3
   },
   "file_extension": ".py",
   "mimetype": "text/x-python",
   "name": "python",
   "nbconvert_exporter": "python",
   "pygments_lexer": "ipython3",
   "version": "3.7.4"
  }
 },
 "nbformat": 4,
 "nbformat_minor": 2
}
