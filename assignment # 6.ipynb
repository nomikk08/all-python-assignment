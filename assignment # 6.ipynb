{
 "cells": [
  {
   "cell_type": "code",
   "execution_count": 13,
   "metadata": {},
   "outputs": [
    {
     "name": "stdout",
     "output_type": "stream",
     "text": [
      "Name: Mehran \n",
      "Model:2015 \n",
      "Color: silver \n",
      "Average: 40kms/l \n",
      "Speed: 120kms/h \n",
      "\n",
      "Name: Corolla \n",
      "Model:2017 \n",
      "Color: Black \n",
      "Average: 50kms/l \n",
      "Speed: 160kms/h \n",
      "\n",
      "Name: Civic \n",
      "Model:2017 \n",
      "Color: White \n",
      "Average: 55kms/l \n",
      "Speed: 180kms/h \n",
      "\n",
      "Name: Corolla \n",
      "Model:2019 \n",
      "Color: Silver \n",
      "Average: 60kms/l \n",
      "Speed: 170kms/h \n",
      "\n",
      "Name: Civic \n",
      "Model:2019 \n",
      "Color: Black \n",
      "Average: 65kms/l \n",
      "Speed: 200kms/h \n",
      "\n"
     ]
    }
   ],
   "source": [
    "class Car():\n",
    "    def __init__(self,name,model,color,average,speed):\n",
    "        self.model=model\n",
    "        self.name=name\n",
    "        self.color=color\n",
    "        self.average=average\n",
    "        self.speed=speed\n",
    "        \n",
    "car1=Car(\"Mehran\",\"2015\",\"silver\",\"40kms/l\",\"120kms/h\")\n",
    "car2=Car(\"Corolla\",\"2017\",\"Black\",\"50kms/l\",\"160kms/h\")\n",
    "car3=Car(\"Civic\",\"2017\",\"White\",\"55kms/l\",\"180kms/h\")\n",
    "car4=Car(\"Corolla\",\"2019\",\"Silver\",\"60kms/l\",\"170kms/h\")\n",
    "car5=Car(\"Civic\",\"2019\",\"Black\",\"65kms/l\",\"200kms/h\")\n",
    "\n",
    "print(\"Name: {} \\nModel:{} \\nColor: {} \\nAverage: {} \\nSpeed: {} \\n\".format(car1.name,car1.model,car1.color,car1.average,car1.speed))\n",
    "print(\"Name: {} \\nModel:{} \\nColor: {} \\nAverage: {} \\nSpeed: {} \\n\".format(car2.name,car2.model,car2.color,car2.average,car2.speed))\n",
    "print(\"Name: {} \\nModel:{} \\nColor: {} \\nAverage: {} \\nSpeed: {} \\n\".format(car3.name,car3.model,car3.color,car3.average,car3.speed))\n",
    "print(\"Name: {} \\nModel:{} \\nColor: {} \\nAverage: {} \\nSpeed: {} \\n\".format(car4.name,car4.model,car4.color,car4.average,car4.speed))\n",
    "print(\"Name: {} \\nModel:{} \\nColor: {} \\nAverage: {} \\nSpeed: {} \\n\".format(car5.name,car5.model,car5.color,car5.average,car5.speed))"
   ]
  },
  {
   "cell_type": "code",
   "execution_count": 12,
   "metadata": {},
   "outputs": [],
   "source": [
    "##CLASS:\n",
    "        ## It is a template or a blueprint about the capaility of what a object can do\n",
    "    \n",
    "##OBJECT:\n",
    "        ## An object is an instantiation of a class. When a class is defined,\n",
    "        ## only the description of the object is defined. Therefore no memory\n",
    "        ## or storage is allocated\n",
    "    \n",
    "## ATTRIBUTES:\n",
    "        ## Attributes are the properties of an object\n",
    "    \n",
    "## BEHAVIOUR:\n",
    "       ##  A class's behavior determines how an instance of that class operates;\n",
    "       ## for example, how it will \"react\" if asked to do something by another \n",
    "       ## class or object or if its internal state changes. Behavior is the only\n",
    "       ## way objects can do anything to themselves or have anything done to them."
   ]
  },
  {
   "cell_type": "code",
   "execution_count": 14,
   "metadata": {},
   "outputs": [],
   "source": [
    "## METHODS:\n",
    "       ## Methods are function defined inside the body of a class. They are used \n",
    "       ## to define the behaviour of an object.\n",
    "    \n",
    "## FUNCTION:\n",
    "       ## A function is a combination of instructions that are combined to achieve\n",
    "       ## some result. A function is independent and not associated with a class"
   ]
  },
  {
   "cell_type": "code",
   "execution_count": 15,
   "metadata": {},
   "outputs": [],
   "source": [
    "## OBJECT ORIENTED PROGRAMMONG:\n",
    "    ## Object-oriented programming (OOP) is a programming language model\n",
    "    ## in which programs are organized around data, or objects, rather \n",
    "    ## than functions and logic. An object can be defined as a data field\n",
    "    ## that has unique attributes and behavior."
   ]
  },
  {
   "cell_type": "code",
   "execution_count": null,
   "metadata": {},
   "outputs": [],
   "source": [
    "## BENEFITS OF OBJECT ORIENTED PROGRAMMONG:\n",
    "\n",
    "   ## It provides a clear modular structure for programs which makes it good\n",
    "   ## for defining abstract datatypes in which implementation details are hidden\n",
    "\n",
    "  ## Objects can also be reused within an across applications. The reuse of\n",
    "  ## software also lowers the cost of development. More effort is put into the\n",
    "  ## object-oriented analysis and design, which lowers the overall cost of development.\n",
    "\n",
    "  ## It makes software easier to maintain. Since the design is modular, part of\n",
    "  ## the system can be updated in case of issues without a need to make large-scale changes"
   ]
  }
 ],
 "metadata": {
  "kernelspec": {
   "display_name": "Python 3",
   "language": "python",
   "name": "python3"
  },
  "language_info": {
   "codemirror_mode": {
    "name": "ipython",
    "version": 3
   },
   "file_extension": ".py",
   "mimetype": "text/x-python",
   "name": "python",
   "nbconvert_exporter": "python",
   "pygments_lexer": "ipython3",
   "version": "3.7.4"
  }
 },
 "nbformat": 4,
 "nbformat_minor": 2
}
