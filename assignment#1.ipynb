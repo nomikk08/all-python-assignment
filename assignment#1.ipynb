{
 "cells": [
  {
   "cell_type": "code",
   "execution_count": 20,
   "metadata": {},
   "outputs": [
    {
     "name": "stdout",
     "output_type": "stream",
     "text": [
      "Twinkle, twinkle, little star\n",
      "    How I wonder what you are!\n",
      "       Up above the world so high,\n",
      "       Like a diamond in the sky.\n",
      "Twinkle, twinkle, little star\n",
      "    How I wonder what you are!\n"
     ]
    }
   ],
   "source": [
    "# Question no.1\n",
    "# Write a Python program to print the following string in a specific format (see the output). \n",
    "s1= \"Twinkle, twinkle, little star\"\n",
    "s2= \"How I wonder what you are!\"\n",
    "s3= \"Up above the world so high,\"\n",
    "s4= \"Like a diamond in the sky.\"\n",
    "print (s1)\n",
    "print ((3*\" \"),(s2))\n",
    "print ((6*\" \"),(s3))\n",
    "print ((6*\" \"),(s4)) \n",
    "print (s1)\n",
    "print ((3*\" \"),(s2))"
   ]
  },
  {
   "cell_type": "code",
   "execution_count": 1,
   "metadata": {},
   "outputs": [
    {
     "name": "stdout",
     "output_type": "stream",
     "text": [
      "python version\n",
      "3.7.4 (default, Aug  9 2019, 18:34:13) [MSC v.1915 64 bit (AMD64)]\n",
      "version info.\n",
      "sys.version_info(major=3, minor=7, micro=4, releaselevel='final', serial=0)\n"
     ]
    }
   ],
   "source": [
    "# Question no.2\n",
    "#  Write a Python program to get the Python version you are using \n",
    "import sys\n",
    "print (\"python version\")\n",
    "print (sys.version)\n",
    "print (\"version info.\")\n",
    "print (sys.version_info)"
   ]
  },
  {
   "cell_type": "code",
   "execution_count": 2,
   "metadata": {},
   "outputs": [
    {
     "ename": "SyntaxError",
     "evalue": "invalid syntax (<ipython-input-2-17c6800c6166>, line 6)",
     "output_type": "error",
     "traceback": [
      "\u001b[1;36m  File \u001b[1;32m\"<ipython-input-2-17c6800c6166>\"\u001b[1;36m, line \u001b[1;32m6\u001b[0m\n\u001b[1;33m    d1 = today.strftime(%d/%m/%Y)\u001b[0m\n\u001b[1;37m                        ^\u001b[0m\n\u001b[1;31mSyntaxError\u001b[0m\u001b[1;31m:\u001b[0m invalid syntax\n"
     ]
    }
   ],
   "source": [
    "# Question no.3\n",
    "# Write a Python program to display the current date and time\n",
    "from datetime import date\n",
    "today = date.today ()\n",
    "# dd/mm/yy\n",
    "d1 = today.strftime(%d/%m/%Y)\n",
    "print (\"d1=\",d1)"
   ]
  },
  {
   "cell_type": "code",
   "execution_count": 26,
   "metadata": {},
   "outputs": [
    {
     "name": "stdout",
     "output_type": "stream",
     "text": [
      "enter the value of radius2.5\n",
      "The area of circle is 19.642857142857142\n"
     ]
    }
   ],
   "source": [
    "# Question no.4\n",
    "# Write a Python program which accepts the radius of a circle from the user and compute the area\n",
    "r = float (input(\"enter the value of radius\"))\n",
    "print (\"The area of circle is\", 22/7*r**2)"
   ]
  },
  {
   "cell_type": "code",
   "execution_count": 28,
   "metadata": {},
   "outputs": [
    {
     "name": "stdout",
     "output_type": "stream",
     "text": [
      "enter your first nameNoman\n",
      "enter your last nameAijaz\n",
      "Aijaz Noman\n"
     ]
    }
   ],
   "source": [
    "# Question no.5\n",
    "# Write a Python program which accepts the user's first and last name and print them in reverse order with a space between them.\n",
    "first_name= input (\"enter your first name\")\n",
    "last_name=  input (\"enter your last name\")\n",
    "print (last_name+\" \" + first_name)"
   ]
  },
  {
   "cell_type": "code",
   "execution_count": 30,
   "metadata": {},
   "outputs": [
    {
     "name": "stdout",
     "output_type": "stream",
     "text": [
      "enter any number 647\n",
      "enter any number to add 46746\n",
      "47393\n"
     ]
    }
   ],
   "source": [
    "# question no.6\n",
    "# Write a python program which takes two inputs from user and print them addition\n",
    "a= int (input(\"enter any number \"))\n",
    "b= int (input(\"enter any number to add \"))\n",
    "print (a+b)"
   ]
  },
  {
   "cell_type": "code",
   "execution_count": null,
   "metadata": {},
   "outputs": [],
   "source": []
  }
 ],
 "metadata": {
  "kernelspec": {
   "display_name": "Python 3",
   "language": "python",
   "name": "python3"
  },
  "language_info": {
   "codemirror_mode": {
    "name": "ipython",
    "version": 3
   },
   "file_extension": ".py",
   "mimetype": "text/x-python",
   "name": "python",
   "nbconvert_exporter": "python",
   "pygments_lexer": "ipython3",
   "version": "3.7.4"
  }
 },
 "nbformat": 4,
 "nbformat_minor": 2
}
