{
 "cells": [
  {
   "cell_type": "code",
   "execution_count": 6,
   "metadata": {},
   "outputs": [
    {
     "name": "stdout",
     "output_type": "stream",
     "text": [
      "enter first number 5\n",
      "enter 2nd number 6\n",
      "enter any function and enter ** for power**\n",
      "your result is  15625\n"
     ]
    }
   ],
   "source": [
    "# A calculator using Python with addition , subtraction , multiplication , division and power\n",
    "a = int (input (\"enter first number \"))\n",
    "b = int (input(\"enter 2nd number \"))\n",
    "c = input (\"enter any function and enter ** for power \")\n",
    "if c == \"+\" :\n",
    "    print (\"your result is \", a+b )\n",
    "elif c == \"-\" :\n",
    "    print (\"your result is \",  a-b)\n",
    "elif c == \"*\" :\n",
    "    print (\"your result is \", a*b)\n",
    "elif c== \"/\":\n",
    "    print (\"your result is \", a/b)\n",
    "elif c == \"**\" :\n",
    "    print (\"your result is \", a**b)\n",
    "else :\n",
    "    print (\"you have entered wrong functon\")\n",
    "    "
   ]
  },
  {
   "cell_type": "code",
   "execution_count": 9,
   "metadata": {},
   "outputs": [
    {
     "name": "stdout",
     "output_type": "stream",
     "text": [
      "name key\n",
      "last name key\n",
      "city key\n",
      "university key\n",
      "Noman value\n",
      "Aijaz value\n",
      "Karachi value\n",
      "DUET value\n"
     ]
    }
   ],
   "source": [
    "# A Python script to add a key to a dictionary\n",
    "student = {\"name\":\"Noman\",\"last name\":\"Aijaz\",\"city\":\"Karachi\"}\n",
    "student [\"university\"] = \"DUET\"\n",
    "for each_value in student.keys():\n",
    "    print (each_value , \"key\")\n",
    "for each_value in student.values():\n",
    "    print (each_value , \"value\")"
   ]
  },
  {
   "cell_type": "code",
   "execution_count": 31,
   "metadata": {
    "scrolled": true
   },
   "outputs": [
    {
     "name": "stdout",
     "output_type": "stream",
     "text": [
      "[1, 2, 3, 4]\n"
     ]
    }
   ],
   "source": [
    "# a program to identify duplicate values from list\n",
    "def Repeat(x):\n",
    "    size = len(x)\n",
    "    repeated = []\n",
    "    for i in range(size):\n",
    "        k=i+1\n",
    "        for j in range(k,size):\n",
    "            if x[i]==x[j] not in repeated :\n",
    "                repeated.append(x[i])\n",
    "    return repeated\n",
    "a = [1,2,3,1,3,3,2,4,5,2,1,2,3,1,1,3,4]\n",
    "print (Repeat(a))"
   ]
  },
  {
   "cell_type": "code",
   "execution_count": 20,
   "metadata": {},
   "outputs": [
    {
     "name": "stdout",
     "output_type": "stream",
     "text": [
      "sum :  196\n"
     ]
    }
   ],
   "source": [
    "# A Python program to sum all the numeric items in a dictionary \n",
    "def returnSum(dict) :\n",
    "    \n",
    "    sum = 0\n",
    "    for i in dict.values():\n",
    "        sum = sum + i\n",
    "    return sum\n",
    "dict = {\"a\":49, \"b\":89, \"c\":58}\n",
    "print (\"sum : \", returnSum(dict))"
   ]
  },
  {
   "cell_type": "code",
   "execution_count": 1,
   "metadata": {
    "scrolled": true
   },
   "outputs": [
    {
     "name": "stdout",
     "output_type": "stream",
     "text": [
      "enter any letter a\n",
      "present,  value =  300\n"
     ]
    }
   ],
   "source": [
    "# A Python script to check if a given key already exists in a dictionary\n",
    "def checkKey(dict , key):\n",
    "    if key in dict : \n",
    "        print (\"present, \", end= \" \")\n",
    "        print (\"value = \", dict[key])\n",
    "    else:\n",
    "            print (\"Not present\")\n",
    "dict = {\"a\":300 , \"b\":400 , \"c\":200}\n",
    "key = input(\"enter any letter \")\n",
    "checkKey (dict , key)"
   ]
  },
  {
   "cell_type": "code",
   "execution_count": null,
   "metadata": {},
   "outputs": [],
   "source": [
    " "
   ]
  },
  {
   "cell_type": "code",
   "execution_count": null,
   "metadata": {},
   "outputs": [],
   "source": []
  }
 ],
 "metadata": {
  "kernelspec": {
   "display_name": "Python 3",
   "language": "python",
   "name": "python3"
  },
  "language_info": {
   "codemirror_mode": {
    "name": "ipython",
    "version": 3
   },
   "file_extension": ".py",
   "mimetype": "text/x-python",
   "name": "python",
   "nbconvert_exporter": "python",
   "pygments_lexer": "ipython3",
   "version": "3.7.4"
  }
 },
 "nbformat": 4,
 "nbformat_minor": 2
}
