{
 "cells": [
  {
   "cell_type": "code",
   "execution_count": 13,
   "metadata": {},
   "outputs": [
    {
     "name": "stdout",
     "output_type": "stream",
     "text": [
      "write any number 7\n",
      "5040\n"
     ]
    }
   ],
   "source": [
    "import math\n",
    "def fact():\n",
    "    num = int(input(\"write any number \"))\n",
    "    print(math.factorial(num))\n",
    "fact()"
   ]
  },
  {
   "cell_type": "code",
   "execution_count": 27,
   "metadata": {},
   "outputs": [
    {
     "name": "stdout",
     "output_type": "stream",
     "text": [
      "Enter any string :My Name Is Noman Aijaz\n",
      "The lower case characters are= 13\n",
      "The lower case characters are= 5\n"
     ]
    }
   ],
   "source": [
    "def upperlower(string):\n",
    "    lower = 0\n",
    "    upper = 0\n",
    "    for i in range(len(string)):\n",
    "                   #for lower case\n",
    "        if ord(string[i]) >=97 and ord(string[i])<=122:\n",
    "            lower +=1\n",
    "                   \n",
    "                   #for upper case\n",
    "        elif ord(string[i])<=90 and ord(string[i])>=65:\n",
    "             upper+=1\n",
    "                \n",
    "    print(\"The lower case characters are= \" + str(lower))\n",
    "    print(\"The lower case characters are= \" + str(upper))\n",
    "string = input(\"Enter any string :\")\n",
    "upperlower(string)"
   ]
  },
  {
   "cell_type": "code",
   "execution_count": 28,
   "metadata": {},
   "outputs": [
    {
     "name": "stdout",
     "output_type": "stream",
     "text": [
      "The even numbers in the given list are= 4\n"
     ]
    }
   ],
   "source": [
    "def even():\n",
    "    list1 = [1,2,3,4,5,6,7,8,9]\n",
    "    n=0\n",
    "    for i in list1:\n",
    "        if i%2 ==0:\n",
    "            n+=1\n",
    "    print(\"The even numbers in the given list are= \"+ str(n))\n",
    "even()"
   ]
  },
  {
   "cell_type": "code",
   "execution_count": 5,
   "metadata": {},
   "outputs": [
    {
     "name": "stdout",
     "output_type": "stream",
     "text": [
      "enter any name madam\n",
      "Yes\n"
     ]
    }
   ],
   "source": [
    "# function which return reverse of a string \n",
    "def reverse(s): \n",
    "    return s[::-1] \n",
    "\n",
    "def isPalindrome(s): \n",
    "    # Calling reverse function \n",
    "    rev = reverse(s) \n",
    "\n",
    "    # Checking if both string are equal or not \n",
    "    if (s == rev): \n",
    "        return True\n",
    "        return False\n",
    "\n",
    "\n",
    "# Driver code \n",
    "s = input(\"enter any name \")\n",
    "ans = isPalindrome(s) \n",
    "\n",
    "if ans == 1: \n",
    "    print(\"Yes\") \n",
    "else: \n",
    "    print(\"No\") \n"
   ]
  },
  {
   "cell_type": "code",
   "execution_count": 14,
   "metadata": {},
   "outputs": [
    {
     "name": "stdout",
     "output_type": "stream",
     "text": [
      "enter any number 11\n",
      "11 is a prime number\n"
     ]
    }
   ],
   "source": [
    "# Python program to check if \n",
    "# given number is prime or not \n",
    "\n",
    "num = int(input(\"enter any number \"))\n",
    "\n",
    "# If given number is greater than 1 \n",
    "if num > 1: \n",
    "\n",
    "# Iterate from 2 to n / 2 \n",
    "    for i in range(2, num//2): \n",
    "\n",
    "# If num is divisible by any number between \n",
    "# 2 and n / 2, it is not prime \n",
    "        if (num % i) == 0: \n",
    "            print(num, \"is not a prime number\") \n",
    "            break\n",
    "    else: \n",
    "        print(num, \"is a prime number\") \n",
    "\n",
    "else: \n",
    "    print(num, \"is not a prime number\") \n"
   ]
  },
  {
   "cell_type": "code",
   "execution_count": null,
   "metadata": {},
   "outputs": [],
   "source": []
  }
 ],
 "metadata": {
  "kernelspec": {
   "display_name": "Python 3",
   "language": "python",
   "name": "python3"
  },
  "language_info": {
   "codemirror_mode": {
    "name": "ipython",
    "version": 3
   },
   "file_extension": ".py",
   "mimetype": "text/x-python",
   "name": "python",
   "nbconvert_exporter": "python",
   "pygments_lexer": "ipython3",
   "version": "3.7.4"
  }
 },
 "nbformat": 4,
 "nbformat_minor": 2
}
